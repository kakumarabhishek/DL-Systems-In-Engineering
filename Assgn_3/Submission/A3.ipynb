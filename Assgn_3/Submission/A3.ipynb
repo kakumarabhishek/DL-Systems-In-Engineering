{
 "cells": [
  {
   "cell_type": "markdown",
   "id": "40d31851",
   "metadata": {},
   "source": [
    "\n",
    "#### Specify Jupyter extensions\n",
    "\n",
    "`matplotlib` inline allows visualizing the plots in the notebook. `autoreload` allows external modules to be reloaded automatically to keep track of any changes made therein."
   ]
  },
  {
   "cell_type": "code",
   "execution_count": 1,
   "id": "5f1d658d",
   "metadata": {},
   "outputs": [],
   "source": [
    "%matplotlib inline\n",
    "%load_ext autoreload\n",
    "%autoreload 2"
   ]
  },
  {
   "cell_type": "markdown",
   "id": "2b7a9de6",
   "metadata": {},
   "source": [
    "#### Import the Python libraries and custom modules as needed¶"
   ]
  },
  {
   "cell_type": "code",
   "execution_count": 2,
   "id": "9df841bf",
   "metadata": {},
   "outputs": [],
   "source": [
    "import os\n",
    "import numpy as np\n",
    "import pandas as pd\n",
    "import matplotlib.pyplot as plt\n",
    "import seaborn as sns\n",
    "from numpy.linalg import norm\n",
    "\n",
    "# Import scikit-learn for functions and datasets.\n",
    "import sklearn\n",
    "from sklearn.datasets import load_digits\n",
    "from sklearn.model_selection import KFold, GridSearchCV\n",
    "from sklearn.datasets import fetch_openml\n",
    "from sklearn.metrics import classification_report, confusion_matrix\n",
    "\n",
    "# Import OpenCV to save the weights as frames of a video.\n",
    "import cv2\n",
    "\n",
    "# Import the custom module for helper functions\n",
    "from utils import *"
   ]
  },
  {
   "cell_type": "code",
   "execution_count": 3,
   "id": "2ba6191f",
   "metadata": {},
   "outputs": [],
   "source": [
    "# Specifying seed value for reproducibility.\n",
    "\n",
    "seedval = 8888\n",
    "np.random.seed(seedval)"
   ]
  },
  {
   "cell_type": "code",
   "execution_count": 4,
   "id": "cb17da8c",
   "metadata": {},
   "outputs": [],
   "source": [
    "# Specifying project directories.\n",
    "\n",
    "savedir = 'SavedFigs/'"
   ]
  },
  {
   "cell_type": "markdown",
   "id": "72a7b5ce",
   "metadata": {},
   "source": [
    "# Question 2"
   ]
  },
  {
   "cell_type": "markdown",
   "id": "bcf26eb3",
   "metadata": {},
   "source": [
    "## Loading, validating, and exploring the dataset"
   ]
  },
  {
   "cell_type": "code",
   "execution_count": 5,
   "id": "efca7f06",
   "metadata": {},
   "outputs": [
    {
     "name": "stdout",
     "output_type": "stream",
     "text": [
      "Shape of input data: (70000, 784)\n",
      "Shape of target labels: (70000,)\n"
     ]
    }
   ],
   "source": [
    "mnist_data = fetch_openml('mnist_784', version=1, return_X_y=False)\n",
    "\n",
    "data, target = mnist_data.data.to_numpy(), mnist_data.target.astype(np.int_).to_numpy()\n",
    "\n",
    "print(\"Shape of input data:\", data.shape)\n",
    "print(\"Shape of target labels:\", target.shape)"
   ]
  },
  {
   "cell_type": "code",
   "execution_count": 6,
   "id": "467eaf9b",
   "metadata": {
    "scrolled": true
   },
   "outputs": [
    {
     "name": "stdout",
     "output_type": "stream",
     "text": [
      "Class-wise sample counts\n",
      "0 -> 6903\n",
      "1 -> 7877\n",
      "2 -> 6990\n",
      "3 -> 7141\n",
      "4 -> 6824\n",
      "5 -> 6313\n",
      "6 -> 6876\n",
      "7 -> 7293\n",
      "8 -> 6825\n",
      "9 -> 6958\n"
     ]
    }
   ],
   "source": [
    "# We want to count the sample population of each target label in the dataset.\n",
    "\n",
    "print(\"Class-wise sample counts\")\n",
    "\n",
    "# For every label, count the number of occurrences of it in the dataset.\n",
    "for label in range(10):\n",
    "    # Since the labels in this dataset are strings, we convert them to \n",
    "    # integers first.\n",
    "    print(label, '->' , len(np.where(target.astype(np.int_) == label)[0]))"
   ]
  },
  {
   "cell_type": "markdown",
   "id": "072ce5e3",
   "metadata": {},
   "source": [
    "## Select the 4 classes based on user inputs `class0`, `class1`, `class2`, and `class3`"
   ]
  },
  {
   "cell_type": "code",
   "execution_count": 7,
   "id": "8da1d712",
   "metadata": {},
   "outputs": [],
   "source": [
    "class0, class1, class2, class3 = 0, 1, 3, 4"
   ]
  },
  {
   "cell_type": "code",
   "execution_count": 8,
   "id": "d89c7b4f",
   "metadata": {},
   "outputs": [],
   "source": [
    "# Save the classes in a list and infer the number of classes.\n",
    "\n",
    "classes = [class0, class1, class2, class3]\n",
    "n_classes = len(classes)"
   ]
  },
  {
   "cell_type": "markdown",
   "id": "b2a76b19",
   "metadata": {},
   "source": [
    "## Partition the dataset into training and testing splits"
   ]
  },
  {
   "cell_type": "code",
   "execution_count": 9,
   "id": "9422f880",
   "metadata": {},
   "outputs": [],
   "source": [
    "# Specify the percentage of the dataset to be held out for testing\n",
    "test_frac = 0.3"
   ]
  },
  {
   "cell_type": "code",
   "execution_count": 10,
   "id": "446b235c",
   "metadata": {},
   "outputs": [
    {
     "name": "stdout",
     "output_type": "stream",
     "text": [
      "Training partition input data shape: (20121, 784)\n",
      "Training partition labels shape: (20121,)\n",
      "Testing partition input data shape: (8624, 784)\n",
      "Testing partition labels shape: (8624,)\n"
     ]
    }
   ],
   "source": [
    "x_train, x_test, y_train, y_test = prepare_data(X=data, \n",
    "                                                Y=target, \n",
    "                                                class0=class0, \n",
    "                                                class1=class1, \n",
    "                                                class2=class2, \n",
    "                                                class3=class3, \n",
    "                                                test_split_fraction=test_frac, \n",
    "                                                seedval=seedval)\n",
    "\n",
    "print('Training partition input data shape:', x_train.shape)\n",
    "print('Training partition labels shape:', y_train.shape)\n",
    "print('Testing partition input data shape:', x_test.shape)\n",
    "print('Testing partition labels shape:', y_test.shape)\n",
    "\n",
    "# Infer the number of data points in training and testing partitions\n",
    "# and the number of features from the shape\n",
    "n_train, n_test, n_feats = x_train.shape[0], x_test.shape[0], x_train.shape[1]"
   ]
  },
  {
   "cell_type": "markdown",
   "id": "2a254064",
   "metadata": {},
   "source": [
    "## Train a softmax regression classifier for multi-class classification using mini-batch stochastic gradient descent and hyperparameter optimization"
   ]
  },
  {
   "cell_type": "markdown",
   "id": "1dd096dc",
   "metadata": {},
   "source": [
    "### Feature normalization"
   ]
  },
  {
   "cell_type": "code",
   "execution_count": 11,
   "id": "9d76167c",
   "metadata": {},
   "outputs": [],
   "source": [
    "# Normalize the input data to [0, 1] by dividing by 255.\n",
    "x_train_norm, x_test_norm = x_train / 255., x_test / 255."
   ]
  },
  {
   "cell_type": "markdown",
   "id": "7a835484",
   "metadata": {},
   "source": [
    "### Defining the set of values over which hyperparameter optimization is to be performed"
   ]
  },
  {
   "cell_type": "code",
   "execution_count": 12,
   "id": "f34d727a",
   "metadata": {},
   "outputs": [],
   "source": [
    "lr_vals = [1, 5e-1, 1e-1]         # set of learning rate values to choose from\n",
    "reg_param_vals = [1, 0.1, 0.]     # set of regularization parameter values to choose from\n",
    "batch_size_vals = [1000, 5000]    # set of batch size values to choose from\n",
    "n_epochs_vals = [50, 100, 200]    # set of training epochs to choose from"
   ]
  },
  {
   "cell_type": "markdown",
   "id": "8f323a0a",
   "metadata": {},
   "source": [
    "### Perform a grid search over the hyperparameter values with K-fold cross validation"
   ]
  },
  {
   "cell_type": "code",
   "execution_count": 13,
   "id": "9c449747",
   "metadata": {},
   "outputs": [],
   "source": [
    "# Define a classifier with some hyperparameter values. This is necessary to initialize\n",
    "# the classifier object. However, these are just placeholder values and we will \n",
    "# perform a grid search to choose the best set of values.\n",
    "clsfr = SoftmaxClassifier(n_features=784, \n",
    "                          n_classes=4, \n",
    "                          reg_param=0.1, \n",
    "                          lr=1e-3, \n",
    "                          batch_size=50, \n",
    "                          n_epochs=1000)\n",
    "\n",
    "# We then initialize a dictionary with the set of possible hyperparameter values so\n",
    "# that we can perform a grid search over them.\n",
    "# Inspired by https://bit.ly/3xDCKwa\n",
    "hyperparam_grid = dict(lr=lr_vals, \n",
    "                       reg_param=reg_param_vals, \n",
    "                       batch_size=batch_size_vals, \n",
    "                       n_epochs=n_epochs_vals)\n",
    "\n",
    "# Next, we define a K-fold cross validation with K = 3 to select the best set of \n",
    "# hyperparameter values.\n",
    "# We set shuffle=True so that the data is shuffled before each 3-fold split.\n",
    "KFold_cv = KFold(n_splits=3, shuffle=True, random_state=seedval)\n",
    "\n",
    "# We choose the classification accuracy as the scoring function.\n",
    "# We set n_jobs=-1 to utilize all the CPU cores and reduce computation time.\n",
    "# We set error_score=0 to substitute 0 in case the error function cannot be\n",
    "# calculated for a split.\n",
    "GridSearch_KFold_cv = GridSearchCV(estimator=clsfr, \n",
    "                                   param_grid=hyperparam_grid, \n",
    "                                   n_jobs=-1, \n",
    "                                   cv=KFold_cv, \n",
    "                                   scoring='accuracy', \n",
    "                                   error_score=0)\n",
    "\n",
    "# Finally, we perform the grid search operation. This will take some time\n",
    "# to complete since we are fitting 162 models \n",
    "# (54 sets of hyperparameters * 3-fold cross validation = 162 models)\n",
    "GridSearch_KFold_cv_result = GridSearch_KFold_cv.fit(x_train_norm, y_train)"
   ]
  },
  {
   "cell_type": "code",
   "execution_count": 14,
   "id": "e188d92c",
   "metadata": {},
   "outputs": [
    {
     "name": "stdout",
     "output_type": "stream",
     "text": [
      "The best cross validation classification accuracy is 0.9879 using\n",
      "batch_size : 1000\n",
      "lr : 0.5\n",
      "n_epochs : 200\n",
      "reg_param : 0.1\n"
     ]
    }
   ],
   "source": [
    "# We print the best set of hyperparameter values\n",
    "print(f'The best cross validation classification accuracy is {GridSearch_KFold_cv_result.best_score_:.4f} using')\n",
    "\n",
    "for key in GridSearch_KFold_cv_result.best_params_.keys():\n",
    "    print(key, ':', GridSearch_KFold_cv_result.best_params_[key])"
   ]
  },
  {
   "cell_type": "code",
   "execution_count": 15,
   "id": "8e5119d9",
   "metadata": {},
   "outputs": [
    {
     "name": "stdout",
     "output_type": "stream",
     "text": [
      "0.9857 (0.0014) with: {'batch_size': 1000, 'lr': 1, 'n_epochs': 50, 'reg_param': 1}\n",
      "0.9869 (0.0020) with: {'batch_size': 1000, 'lr': 1, 'n_epochs': 50, 'reg_param': 0.1}\n",
      "0.9865 (0.0019) with: {'batch_size': 1000, 'lr': 1, 'n_epochs': 50, 'reg_param': 0.0}\n",
      "0.9862 (0.0012) with: {'batch_size': 1000, 'lr': 1, 'n_epochs': 100, 'reg_param': 1}\n",
      "0.9878 (0.0016) with: {'batch_size': 1000, 'lr': 1, 'n_epochs': 100, 'reg_param': 0.1}\n",
      "0.9874 (0.0020) with: {'batch_size': 1000, 'lr': 1, 'n_epochs': 100, 'reg_param': 0.0}\n",
      "0.9862 (0.0013) with: {'batch_size': 1000, 'lr': 1, 'n_epochs': 200, 'reg_param': 1}\n",
      "0.9875 (0.0012) with: {'batch_size': 1000, 'lr': 1, 'n_epochs': 200, 'reg_param': 0.1}\n",
      "0.9869 (0.0014) with: {'batch_size': 1000, 'lr': 1, 'n_epochs': 200, 'reg_param': 0.0}\n",
      "0.9851 (0.0018) with: {'batch_size': 1000, 'lr': 0.5, 'n_epochs': 50, 'reg_param': 1}\n",
      "0.9854 (0.0021) with: {'batch_size': 1000, 'lr': 0.5, 'n_epochs': 50, 'reg_param': 0.1}\n",
      "0.9853 (0.0020) with: {'batch_size': 1000, 'lr': 0.5, 'n_epochs': 50, 'reg_param': 0.0}\n",
      "0.9860 (0.0013) with: {'batch_size': 1000, 'lr': 0.5, 'n_epochs': 100, 'reg_param': 1}\n",
      "0.9869 (0.0020) with: {'batch_size': 1000, 'lr': 0.5, 'n_epochs': 100, 'reg_param': 0.1}\n",
      "0.9868 (0.0020) with: {'batch_size': 1000, 'lr': 0.5, 'n_epochs': 100, 'reg_param': 0.0}\n",
      "0.9863 (0.0015) with: {'batch_size': 1000, 'lr': 0.5, 'n_epochs': 200, 'reg_param': 1}\n",
      "0.9879 (0.0016) with: {'batch_size': 1000, 'lr': 0.5, 'n_epochs': 200, 'reg_param': 0.1}\n",
      "0.9874 (0.0018) with: {'batch_size': 1000, 'lr': 0.5, 'n_epochs': 200, 'reg_param': 0.0}\n",
      "0.9798 (0.0021) with: {'batch_size': 1000, 'lr': 0.1, 'n_epochs': 50, 'reg_param': 1}\n",
      "0.9792 (0.0025) with: {'batch_size': 1000, 'lr': 0.1, 'n_epochs': 50, 'reg_param': 0.1}\n",
      "0.9792 (0.0026) with: {'batch_size': 1000, 'lr': 0.1, 'n_epochs': 50, 'reg_param': 0.0}\n",
      "0.9835 (0.0023) with: {'batch_size': 1000, 'lr': 0.1, 'n_epochs': 100, 'reg_param': 1}\n",
      "0.9826 (0.0025) with: {'batch_size': 1000, 'lr': 0.1, 'n_epochs': 100, 'reg_param': 0.1}\n",
      "0.9824 (0.0024) with: {'batch_size': 1000, 'lr': 0.1, 'n_epochs': 100, 'reg_param': 0.0}\n",
      "0.9853 (0.0022) with: {'batch_size': 1000, 'lr': 0.1, 'n_epochs': 200, 'reg_param': 1}\n",
      "0.9848 (0.0020) with: {'batch_size': 1000, 'lr': 0.1, 'n_epochs': 200, 'reg_param': 0.1}\n",
      "0.9849 (0.0020) with: {'batch_size': 1000, 'lr': 0.1, 'n_epochs': 200, 'reg_param': 0.0}\n",
      "0.9829 (0.0018) with: {'batch_size': 5000, 'lr': 1, 'n_epochs': 50, 'reg_param': 1}\n",
      "0.9826 (0.0021) with: {'batch_size': 5000, 'lr': 1, 'n_epochs': 50, 'reg_param': 0.1}\n",
      "0.9826 (0.0021) with: {'batch_size': 5000, 'lr': 1, 'n_epochs': 50, 'reg_param': 0.0}\n",
      "0.9847 (0.0017) with: {'batch_size': 5000, 'lr': 1, 'n_epochs': 100, 'reg_param': 1}\n",
      "0.9846 (0.0017) with: {'batch_size': 5000, 'lr': 1, 'n_epochs': 100, 'reg_param': 0.1}\n",
      "0.9846 (0.0017) with: {'batch_size': 5000, 'lr': 1, 'n_epochs': 100, 'reg_param': 0.0}\n",
      "0.9865 (0.0016) with: {'batch_size': 5000, 'lr': 1, 'n_epochs': 200, 'reg_param': 1}\n",
      "0.9862 (0.0018) with: {'batch_size': 5000, 'lr': 1, 'n_epochs': 200, 'reg_param': 0.1}\n",
      "0.9862 (0.0017) with: {'batch_size': 5000, 'lr': 1, 'n_epochs': 200, 'reg_param': 0.0}\n",
      "0.9794 (0.0023) with: {'batch_size': 5000, 'lr': 0.5, 'n_epochs': 50, 'reg_param': 1}\n",
      "0.9794 (0.0023) with: {'batch_size': 5000, 'lr': 0.5, 'n_epochs': 50, 'reg_param': 0.1}\n",
      "0.9795 (0.0024) with: {'batch_size': 5000, 'lr': 0.5, 'n_epochs': 50, 'reg_param': 0.0}\n",
      "0.9828 (0.0021) with: {'batch_size': 5000, 'lr': 0.5, 'n_epochs': 100, 'reg_param': 1}\n",
      "0.9827 (0.0020) with: {'batch_size': 5000, 'lr': 0.5, 'n_epochs': 100, 'reg_param': 0.1}\n",
      "0.9827 (0.0020) with: {'batch_size': 5000, 'lr': 0.5, 'n_epochs': 100, 'reg_param': 0.0}\n",
      "0.9849 (0.0017) with: {'batch_size': 5000, 'lr': 0.5, 'n_epochs': 200, 'reg_param': 1}\n",
      "0.9849 (0.0018) with: {'batch_size': 5000, 'lr': 0.5, 'n_epochs': 200, 'reg_param': 0.1}\n",
      "0.9848 (0.0020) with: {'batch_size': 5000, 'lr': 0.5, 'n_epochs': 200, 'reg_param': 0.0}\n",
      "0.9603 (0.0042) with: {'batch_size': 5000, 'lr': 0.1, 'n_epochs': 50, 'reg_param': 1}\n",
      "0.9602 (0.0043) with: {'batch_size': 5000, 'lr': 0.1, 'n_epochs': 50, 'reg_param': 0.1}\n",
      "0.9602 (0.0043) with: {'batch_size': 5000, 'lr': 0.1, 'n_epochs': 50, 'reg_param': 0.0}\n",
      "0.9719 (0.0030) with: {'batch_size': 5000, 'lr': 0.1, 'n_epochs': 100, 'reg_param': 1}\n",
      "0.9718 (0.0030) with: {'batch_size': 5000, 'lr': 0.1, 'n_epochs': 100, 'reg_param': 0.1}\n",
      "0.9718 (0.0030) with: {'batch_size': 5000, 'lr': 0.1, 'n_epochs': 100, 'reg_param': 0.0}\n",
      "0.9782 (0.0026) with: {'batch_size': 5000, 'lr': 0.1, 'n_epochs': 200, 'reg_param': 1}\n",
      "0.9780 (0.0025) with: {'batch_size': 5000, 'lr': 0.1, 'n_epochs': 200, 'reg_param': 0.1}\n",
      "0.9780 (0.0025) with: {'batch_size': 5000, 'lr': 0.1, 'n_epochs': 200, 'reg_param': 0.0}\n"
     ]
    },
    {
     "data": {
      "image/png": "[encoded data removed]",
      "text/plain": [
       "<Figure size 432x288 with 1 Axes>"
      ]
     },
     "metadata": {
      "needs_background": "light"
     },
     "output_type": "display_data"
    }
   ],
   "source": [
    "# Next, we print and visualize the performance of all the sets of \n",
    "# hyperparameter values.\n",
    "\n",
    "grid_means = GridSearch_KFold_cv_result.cv_results_['mean_test_score']\n",
    "grid_stds = GridSearch_KFold_cv_result.cv_results_['std_test_score']\n",
    "grid_params = GridSearch_KFold_cv_result.cv_results_['params']\n",
    "for mean, stdev, param in zip(grid_means, grid_stds, grid_params):\n",
    "    print(\"%.4f (%.4f) with: %r\" % (mean, stdev, param))\n",
    "    \n",
    "# For visualizing, we plot each hyperparameter value set's \n",
    "# classification accuracy and denote the variation between the \n",
    "# 3 folds as error bars.\n",
    "plt.scatter(np.arange(0, 54, 1), grid_means, color='r', marker='.')\n",
    "plt.errorbar(np.arange(0, 54, 1), grid_means, grid_stds, linestyle='None', capsize=2)\n",
    "plt.ylabel('Cross validation classification accuracy')\n",
    "# plt.savefig(savedir + 'Q2_1.png', dpi=300, bbox_inches='tight')\n",
    "plt.show()"
   ]
  },
  {
   "cell_type": "markdown",
   "id": "30848f07",
   "metadata": {},
   "source": [
    "### Training the classifier with the best hyperparameters"
   ]
  },
  {
   "cell_type": "code",
   "execution_count": 16,
   "id": "8b688e75",
   "metadata": {},
   "outputs": [],
   "source": [
    "# Initialize a classifier with the hyperparameters set to the values\n",
    "# calculated above.\n",
    "\n",
    "train_epochs = GridSearch_KFold_cv_result.best_params_['n_epochs']\n",
    "\n",
    "clsfr = SoftmaxClassifier(n_features=n_feats, \n",
    "                          n_classes=n_classes, \n",
    "                          reg_param=GridSearch_KFold_cv_result.best_params_['reg_param'], \n",
    "                          lr=GridSearch_KFold_cv_result.best_params_['lr'], \n",
    "                          batch_size=GridSearch_KFold_cv_result.best_params_['batch_size'], \n",
    "                          n_epochs=1)\n",
    "\n",
    "# Initialize empty dictionaries to keep track of epoch-wise loss\n",
    "# values, classifier parameters, and classification accuracies.\n",
    "losses, params, acc = {}, {}, {}\n",
    "\n",
    "# Initialize the loss and accuracy dictionaries with zeros for \n",
    "# training and testing partitions.\n",
    "losses['train'], losses['test'] = np.zeros(train_epochs), np.zeros(train_epochs)\n",
    "acc['train'], acc['test'] = np.zeros(train_epochs), np.zeros(train_epochs)\n",
    "\n",
    "# Initialize the parameter dictionary with zeros for the classifier's\n",
    "# weights and biases.\n",
    "params['W'], params['b'] = np.zeros((train_epochs, n_feats, n_classes)), np.zeros((train_epochs, n_classes))\n",
    "\n",
    "# Fit the classifier one training epoch at a time, so as to keep track \n",
    "# of the metrics every epoch.\n",
    "for epoch in range(train_epochs):\n",
    "    # Fit the classifier for one epoch.\n",
    "    clsfr.fit(x_train_norm, y_train, calculate_loss=True)\n",
    "    # Log the training loss.\n",
    "    losses['train'] = np.array(clsfr.loss_values_)\n",
    "    # Log the weights and the bias of the classifier.\n",
    "    params['W'][epoch, ...], params['b'][epoch, ...] = clsfr.params_['W'], clsfr.params_['b']\n",
    "    \n",
    "    # Calculate the model's predictions for the training and the test\n",
    "    # partitions.\n",
    "    pred_train = clsfr.predict(x_train_norm, y_train, calculate_loss=False)\n",
    "    pred_test, losses['test'][epoch] = clsfr.predict(x_test_norm, y_test, calculate_loss=True)\n",
    "    \n",
    "    # Calculate the model's accuracy for the training and the test\n",
    "    # partitions.\n",
    "    acc['train'][epoch] = (pred_train == y_train).sum() / n_train\n",
    "    acc['test'][epoch] = (pred_test == y_test).sum() / n_test"
   ]
  },
  {
   "cell_type": "markdown",
   "id": "be071e27",
   "metadata": {},
   "source": [
    "### Plotting the classifier's loss and accuracy over the course of training"
   ]
  },
  {
   "cell_type": "code",
   "execution_count": 17,
   "id": "b3c1083a",
   "metadata": {},
   "outputs": [
    {
     "data": {
      "image/png": "[encoded data removed]",
      "text/plain": [
       "<Figure size 864x288 with 2 Axes>"
      ]
     },
     "metadata": {
      "needs_background": "light"
     },
     "output_type": "display_data"
    }
   ],
   "source": [
    "fig, axs = plt.subplots(1, 2, figsize=(12, 4), sharex=True)\n",
    "\n",
    "axs[0].plot(losses['train'], 'r', label='Training')\n",
    "axs[0].plot(losses['test'], 'b', label='Testing')\n",
    "axs[0].set_xlabel('Epochs')\n",
    "axs[0].set_ylabel('Loss')\n",
    "axs[0].title.set_text('Loss values versus epochs')\n",
    "\n",
    "axs[1].plot(acc['train'], 'r', label='Training')\n",
    "axs[1].plot(acc['test'], 'b', label='Testing')\n",
    "axs[1].set_xlabel('Epochs')\n",
    "axs[1].set_ylabel('Accuracy')\n",
    "axs[1].title.set_text('Classifier\\'s accuracy versus epochs')\n",
    "\n",
    "plt.legend()\n",
    "# plt.savefig(savedir + 'Q2_2.png', dpi=300, bbox_inches='tight')\n",
    "plt.show()"
   ]
  },
  {
   "cell_type": "markdown",
   "id": "cf8af239",
   "metadata": {},
   "source": [
    "## Visualize the classifier's parameters"
   ]
  },
  {
   "cell_type": "code",
   "execution_count": 18,
   "id": "72a5e9ba",
   "metadata": {},
   "outputs": [
    {
     "data": {
      "image/png": "[encoded data removed]",
      "text/plain": [
       "<Figure size 432x288 with 1 Axes>"
      ]
     },
     "metadata": {
      "needs_background": "light"
     },
     "output_type": "display_data"
    }
   ],
   "source": [
    "# Calculate the L2-norm of the classifier's weights for all \n",
    "# epochs and plot it.\n",
    "params_W_L2_norm = np.array([norm(params['W'][idx], 2)\n",
    "                             for idx in range(train_epochs)])\n",
    "plt.plot(params_W_L2_norm)\n",
    "plt.xlabel('Epochs')\n",
    "plt.ylabel('L2-norm of classifier\\'s weights')\n",
    "# plt.savefig(savedir + 'Q2_3.png', dpi=300, bbox_inches='tight')\n",
    "plt.show()"
   ]
  },
  {
   "cell_type": "code",
   "execution_count": 19,
   "id": "39ca552c",
   "metadata": {
    "scrolled": true
   },
   "outputs": [
    {
     "data": {
      "image/png": "[encoded data removed]",
      "text/plain": [
       "<Figure size 432x288 with 1 Axes>"
      ]
     },
     "metadata": {
      "needs_background": "light"
     },
     "output_type": "display_data"
    }
   ],
   "source": [
    "# Similarly, we will visualize the model's bias over epochs.\n",
    "\n",
    "plt.plot(params['b'])\n",
    "plt.xlabel('Epochs')\n",
    "plt.ylabel('Bias values')\n",
    "plt.title('Visualizing the classifier\\'s biases over epochs')\n",
    "# plt.savefig(savedir + 'Q2_4.png', dpi=300, bbox_inches='tight')\n",
    "plt.show()"
   ]
  },
  {
   "cell_type": "code",
   "execution_count": 20,
   "id": "9a54bd9c",
   "metadata": {},
   "outputs": [
    {
     "data": {
      "image/png": "[encoded data removed]",
      "text/plain": [
       "<Figure size 864x576 with 5 Axes>"
      ]
     },
     "metadata": {
      "needs_background": "light"
     },
     "output_type": "display_data"
    }
   ],
   "source": [
    "# Finally, we visualize the model weights as an animation composed of\n",
    "# a 2 x 2 grid of 28 x 28 images, each image corresponding to the \n",
    "# weights from an epoch.\n",
    "\n",
    "# We will save the weights as images first, one image for each epoch.\n",
    "for epoch in range(train_epochs):\n",
    "    # Close any open plots.\n",
    "    plt.close()\n",
    "    # Create a 2 x 2 grid to plot the 4 weight map images in.\n",
    "    fig, axs = plt.subplots(2, 2, figsize=(12,8))\n",
    "\n",
    "    # Iterate over the classes.\n",
    "    for cls_idx in range(n_classes):\n",
    "        # Calculate the position in the grid based on the class index.\n",
    "        axs_row, axs_col = (cls_idx // 2), (cls_idx % 2)\n",
    "        # Calculate the minimum and maximum weight values for each \n",
    "        # epoch. This is used to choose the color for the image.\n",
    "        epoch_val_max, epoch_val_min = params['W'][epoch,...].max(), params['W'][epoch,...].min()\n",
    "        # Finally, plot each weight map with the 'viridis' colormap\n",
    "        # and colors defined by min and max values calculated above.\n",
    "        im = axs[axs_row][axs_col].imshow(params['W'][epoch,:,cls_idx].reshape(28,28), \n",
    "                                          cmap='viridis', \n",
    "                                          vmin=epoch_val_min, \n",
    "                                          vmax=epoch_val_max\n",
    "                                         )\n",
    "        # Assign a title to each subplot.\n",
    "        axs[axs_row][axs_col].set_title(f'Digit: {classes[cls_idx]}')\n",
    "\n",
    "    # Add a colorbar to explain the weight map colors.\n",
    "    fig.subplots_adjust(right=0.8)\n",
    "    cbar_ax = fig.add_axes([0.85, 0.15, 0.05, 0.7])\n",
    "    fig.colorbar(im, cax=cbar_ax, aspect=50)\n",
    "    plt.title('Epoch: {:03d}'.format(epoch))\n",
    "    plt.savefig(savedir + 'VideoFrames/wts_{:03d}'.format(epoch), dpi=300, bbox_inches='tight')\n",
    "    \n",
    "# Store the filenames of all the saved frames.\n",
    "imgs = [savedir + 'VideoFrames/' + f \n",
    "        for f in sorted(os.listdir(savedir + 'VideoFrames/')) \n",
    "        if f.endswith('.png')]\n",
    "\n",
    "# Initialize an empty list to store all the frames.\n",
    "img_array = []\n",
    "\n",
    "# Iterate over each image to store it in the list.\n",
    "for f in imgs:\n",
    "    # Open each image with OpenCV.\n",
    "    img = cv2.imread(f)\n",
    "    # Infer image height and width from shape.\n",
    "    height, width, _ = img.shape\n",
    "    # Define image size using height and width above.\n",
    "    size = (width, height)\n",
    "    # Append the image to the list.\n",
    "    img_array.append(img)\n",
    "    \n",
    "# Initialize an OpenCV VideoWriter object to save the frames as a video.\n",
    "# We set the frame rate of the video to 15 fps.\n",
    "# Inspired by https://bit.ly/3vPyPuU\n",
    "out = cv2.VideoWriter(savedir + 'Q2_5.avi', cv2.VideoWriter_fourcc(*'DIVX'), 15, size)\n",
    "\n",
    "# Interate over each image in the list and write it as a frame of \n",
    "# the video.\n",
    "for idx in range(len(img_array)):\n",
    "    out.write(img_array[idx])\n",
    "\n",
    "# Close the VideoWriter object.\n",
    "out.release()"
   ]
  },
  {
   "cell_type": "code",
   "execution_count": 21,
   "id": "f7d12ddb",
   "metadata": {
    "scrolled": false
   },
   "outputs": [
    {
     "data": {
      "image/png": "[encoded data removed]",
      "text/plain": [
       "<Figure size 864x576 with 5 Axes>"
      ]
     },
     "metadata": {
      "needs_background": "light"
     },
     "output_type": "display_data"
    }
   ],
   "source": [
    "# Next, we extract and visualize the most discriminative pixels in\n",
    "# each weight map. This helps us better understand which locations\n",
    "# lead to classification decisions.\n",
    "\n",
    "# Create a 2 x 2 grid to plot the 4 weight map images in.\n",
    "fig, axs = plt.subplots(2, 2, figsize=(12,8))\n",
    "\n",
    "# Iterate over the classes.\n",
    "for cls_idx in range(n_classes):\n",
    "    # Extract the weight maps from the last epoch of training, and\n",
    "    # reshape it to a 28 x 28 image.\n",
    "    cls_wt = params['W'][-1,:,cls_idx].reshape(28,28)\n",
    "    # For each weight map, set a threshold of 0.75, so that only \n",
    "    # those pixels with values more than 0.75 times the max value\n",
    "    # are set as white, and all the other pixels are black.\n",
    "    im = axs[cls_idx // 2][cls_idx % 2].imshow((cls_wt > cls_wt.max()*0.75), cmap='gist_gray')\n",
    "    # Assign a title to each subplot.\n",
    "    axs[cls_idx // 2][cls_idx % 2].set_title(f'Digit: {classes[cls_idx]}')\n",
    "    \n",
    "fig.subplots_adjust(right=0.8)\n",
    "cbar_ax = fig.add_axes([0.85, 0.15, 0.05, 0.7])\n",
    "fig.colorbar(im, cax=cbar_ax, aspect=50)\n",
    "# plt.savefig(savedir + 'Q2_6.png', dpi=300, bbox_inches='tight')\n",
    "plt.show()"
   ]
  },
  {
   "cell_type": "markdown",
   "id": "0190fd12",
   "metadata": {},
   "source": [
    "## Evaluate the classifier on the test split of the dataset"
   ]
  },
  {
   "cell_type": "markdown",
   "id": "13d808b7",
   "metadata": {},
   "source": [
    "### Confusion matrix of the classifier"
   ]
  },
  {
   "cell_type": "code",
   "execution_count": 22,
   "id": "a283f793",
   "metadata": {},
   "outputs": [
    {
     "data": {
      "image/png": "[encoded data removed]",
      "text/plain": [
       "<Figure size 432x288 with 2 Axes>"
      ]
     },
     "metadata": {
      "needs_background": "light"
     },
     "output_type": "display_data"
    }
   ],
   "source": [
    "# Construct the confusion matrix of the classifier using the \n",
    "# predicted and the ground truth labels of the test split.\n",
    "confmat = confusion_matrix(y_true=y_test, y_pred=pred_test)\n",
    "# Normalize the confusion matrix row-wise so that each row\n",
    "# is colored according to the number of data points \n",
    "# predicted.\n",
    "confmat_norm = confmat/confmat.sum(axis=1)\n",
    "\n",
    "# Set x-tick and y-tick labels for the plot.\n",
    "confmat_ticklabels = [f'Digit: {cls}' for cls in classes]\n",
    "\n",
    "# Create a seaborn heatmap to visualize the confusion matrix\n",
    "# of the classifier on the test set.\n",
    "# fmt=\"g\" enforces integer output in each cell.\n",
    "confmat_heatmap = sns.heatmap(confmat_norm, \n",
    "                              annot=confmat, \n",
    "                              fmt=\"g\", \n",
    "                              xticklabels=confmat_ticklabels, \n",
    "                              yticklabels=confmat_ticklabels)\n",
    "\n",
    "# Set axis labels for the confusion matrix.\n",
    "confmat_heatmap.set(xlabel=\"Predicted class\",\n",
    "                    ylabel=\"True class\")\n",
    "\n",
    "confmat_fig = confmat_heatmap.get_figure()    \n",
    "# confmat_fig.savefig(savedir + 'Q2_7.png', dpi=300, bbox_inches='tight')"
   ]
  },
  {
   "cell_type": "markdown",
   "id": "4b622ddb",
   "metadata": {},
   "source": [
    "### Classification performance metrics"
   ]
  },
  {
   "cell_type": "code",
   "execution_count": 23,
   "id": "53d67623",
   "metadata": {},
   "outputs": [
    {
     "name": "stdout",
     "output_type": "stream",
     "text": [
      "Class\t\tPrecision\tRecall\t\tF1-score\n",
      "Digit: 0\t0.9952\t\t0.9928\t\t0.9940\n",
      "Digit: 1\t0.9865\t\t0.9894\t\t0.9880\n",
      "Digit: 3\t0.9837\t\t0.9832\t\t0.9834\n",
      "Digit: 4\t0.9883\t\t0.9878\t\t0.9880\n",
      "Average\t\t0.9884\t\t0.9883\t\t0.9883\n"
     ]
    }
   ],
   "source": [
    "# Calculate the classification metrics for each class in the\n",
    "# test split of the dataset.\n",
    "# output_dict=True ensures that this returns a dict.\n",
    "\n",
    "clsfr_metrics = classification_report(y_true=y_test, \n",
    "                                      y_pred=pred_test, \n",
    "                                      target_names=confmat_ticklabels, \n",
    "                                      output_dict=True)\n",
    "\n",
    "# Print the precision, the recall, and the F1-score of each \n",
    "# class as well as the macro-average for the entire test \n",
    "# split.\n",
    "print('Class\\t\\tPrecision\\tRecall\\t\\tF1-score')\n",
    "for cls in confmat_ticklabels:\n",
    "    print('{:s}\\t{:.4f}\\t\\t{:.4f}\\t\\t{:.4f}'.format(cls, \n",
    "                                               clsfr_metrics[cls]['precision'], \n",
    "                                               clsfr_metrics[cls]['recall'], \n",
    "                                               clsfr_metrics[cls]['f1-score']))\n",
    "\n",
    "print('Average\\t\\t{:.4f}\\t\\t{:.4f}\\t\\t{:.4f}'.format(clsfr_metrics['macro avg']['precision'], \n",
    "                                                     clsfr_metrics['macro avg']['recall'], \n",
    "                                                     clsfr_metrics['macro avg']['f1-score']))"
   ]
  }
 ],
 "metadata": {
  "kernelspec": {
   "display_name": "Python 3",
   "language": "python",
   "name": "python3"
  },
  "language_info": {
   "codemirror_mode": {
    "name": "ipython",
    "version": 3
   },
   "file_extension": ".py",
   "mimetype": "text/x-python",
   "name": "python",
   "nbconvert_exporter": "python",
   "pygments_lexer": "ipython3",
   "version": "3.8.10"
  }
 },
 "nbformat": 4,
 "nbformat_minor": 5
}
