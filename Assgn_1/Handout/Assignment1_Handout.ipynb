{
  "nbformat": 4,
  "nbformat_minor": 0,
  "metadata": {
    "colab": {
      "provenance": []
    },
    "kernelspec": {
      "name": "python3",
      "display_name": "Python 3"
    },
    "language_info": {
      "name": "python"
    }
  },
  "cells": [
    {
      "cell_type": "markdown",
      "metadata": {
        "id": "ETcz9ypN7rP8"
      },
      "source": [
        "**Question 1**\n",
        "\n",
        "*   Generate synthetic data according to a $p^{th}$ order polynomial function $$f(x) = w_1 x + w_2 x^2 + \\ldots + w_p x^p + b$$\n",
        "Add random noise to this function to generate a realistic looking scatter of say $N = 20$ points (increase or decrease this depending on the aesthetics of the scatter plot - don't want too little but don't want too many either).\n",
        "* For the case where the regression model fitted is a straight line, that is, there are two model parameters, calculate the cost $J_{train}(\\theta) = J_{train}(w, b)$ over these two parameters by scanning over a range of values for both parameters. Plot the cost function landscape as a surface plot.\n",
        "*   Implement linear polynomial regression using both the gradient descent method to fit a polynomial to this scatter of data. The user should be able to input the highest degree of polynomial that the user wants and the program should return the parameters of the best fit model.\n",
        ">* Explore the effect of choosing a variety of learning rates on the convergence of the cost. Explain your choice of stopping criterion.\n",
        ">* Explore the effect of choosing the entire training set (batch gradient descent), a single training example at a time (stochastic gradient descent) or mini-batch gradient descent on the convergence of the cost.\n",
        ">* Plot the model parameters for each iteration as a curve in 2D.\n",
        ">* Plot the model parameters for each iteration overlaid as a curve on the surface plot of the cost calculated earlier.\n",
        ">* Vary N, the number of training samples, and explore the effect on the gradient descent implementation.\n",
        ">* Present the results for a few different polynomials you have generated, from linear+noise to some higher order polynomial + noise.\n",
        "* Implement the analytical method for each dataset and compare to the results obtained using gradient descent.\n",
        "\n",
        "**Question 2**\n",
        "\n",
        "* The attached file heightweight.csv showcases the height verses weight and age/sex of some number of individuals. The goal is to predict the weight of an individual based on either the height (single feature regression) or height, age and sex (three-feature regression).\n",
        "* Implement linear regression of weight versus height and plot the cost $J(\\theta)$ over the training data as a function of the two model parameters to show the landscape of the cost as a surface plot.\n",
        "* Choose your favorite method (gradient descent or analytical) to implement single feature linear regression of weight versus height and weight versus age.\n",
        "* Implement a multivariate linear regression to predict weight from height, age and sex taken together.\n",
        "\n",
        "** Notes/Deliverables **\n",
        "\n",
        "* This assignment must be done individually -- you are welcome to refer to any material online and discuss with your colleagues in the course, but all the code that you submit must have been typed by you. If you copy/paste, then it doesn't lead to the same depth of insight and intuition that you would gain if you were to develop the code yourself. Mistakes are expected, and they are an integral part of learning, as the process of making and fixing mistakes is what is key to internalize this material and become good at quickly implementing these methods.\n",
        "* If any two assignments are found to be similar/overlapping in their presentation indicating evidence of sharing of code, both assignments will get -100 points (that is, the assignment will be marked 0 and will also penalize another assignment for both individuals).\n",
        "* Please comment your code liberally and follow good coding/variable naming practices and make it easy for the TA to read/run/grade your code. 25% of the assignment grade will be for following best practices of coding and presentation, where poorly document or structured code, or a code that runs but generates errors, will be penalized.\n",
        "* Submit your code as a Jupyter notebook along with all the necessary input files so that the TA can load the code in their python environment and run it easily.\n",
        "* Submit a word/powerpoint/latex report explaining the task and the solution and highlighting the key take away points of the exploration\n"
      ]
    },
    {
      "cell_type": "code",
      "metadata": {
        "id": "FIA_VHUH8xbW"
      },
      "source": [],
      "execution_count": null,
      "outputs": []
    }
  ]
}